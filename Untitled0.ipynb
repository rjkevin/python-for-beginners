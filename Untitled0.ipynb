{
  "nbformat": 4,
  "nbformat_minor": 0,
  "metadata": {
    "colab": {
      "name": "Untitled0.ipynb",
      "provenance": [],
      "authorship_tag": "ABX9TyO1EB2MBxXmFk3Rw07mflY3",
      "include_colab_link": true
    },
    "kernelspec": {
      "name": "python3",
      "display_name": "Python 3"
    },
    "language_info": {
      "name": "python"
    }
  },
  "cells": [
    {
      "cell_type": "markdown",
      "metadata": {
        "id": "view-in-github",
        "colab_type": "text"
      },
      "source": [
        "<a href=\"https://colab.research.google.com/github/rjkevin/python-for-beginners/blob/main/Untitled0.ipynb\" target=\"_parent\"><img src=\"https://colab.research.google.com/assets/colab-badge.svg\" alt=\"Open In Colab\"/></a>"
      ]
    },
    {
      "cell_type": "code",
      "metadata": {
        "id": "8-SJbBZtqiDf"
      },
      "source": [
        "import pandas as pd\n",
        "df = pd.read_csv('https://raw.githubusercontent.com/MoH-Malaysia/covid19-public/main/epidemic/cases_malaysia.csv')"
      ],
      "execution_count": 13,
      "outputs": []
    },
    {
      "cell_type": "code",
      "metadata": {
        "colab": {
          "base_uri": "https://localhost:8080/"
        },
        "id": "27zSkidJ1P46",
        "outputId": "d79f55ce-c48b-402a-e199-e03ae1226272"
      },
      "source": [
        "df.info()"
      ],
      "execution_count": 19,
      "outputs": [
        {
          "output_type": "stream",
          "text": [
            "<class 'pandas.core.frame.DataFrame'>\n",
            "RangeIndex: 509 entries, 0 to 508\n",
            "Data columns (total 9 columns):\n",
            " #   Column                   Non-Null Count  Dtype  \n",
            "---  ------                   --------------  -----  \n",
            " 0   date                     509 non-null    object \n",
            " 1   cases_new                509 non-null    int64  \n",
            " 2   cluster_import           218 non-null    float64\n",
            " 3   cluster_religious        218 non-null    float64\n",
            " 4   cluster_community        218 non-null    float64\n",
            " 5   cluster_highRisk         218 non-null    float64\n",
            " 6   cluster_education        218 non-null    float64\n",
            " 7   cluster_detentionCentre  218 non-null    float64\n",
            " 8   cluster_workplace        218 non-null    float64\n",
            "dtypes: float64(7), int64(1), object(1)\n",
            "memory usage: 35.9+ KB\n"
          ],
          "name": "stdout"
        }
      ]
    },
    {
      "cell_type": "code",
      "metadata": {
        "colab": {
          "base_uri": "https://localhost:8080/",
          "height": 318
        },
        "id": "UKCEn9S24t3E",
        "outputId": "a0f05efc-a137-4bf0-e718-a755f42d5cd6"
      },
      "source": [
        "df.describe()"
      ],
      "execution_count": 25,
      "outputs": [
        {
          "output_type": "execute_result",
          "data": {
            "text/html": [
              "<div>\n",
              "<style scoped>\n",
              "    .dataframe tbody tr th:only-of-type {\n",
              "        vertical-align: middle;\n",
              "    }\n",
              "\n",
              "    .dataframe tbody tr th {\n",
              "        vertical-align: top;\n",
              "    }\n",
              "\n",
              "    .dataframe thead th {\n",
              "        text-align: right;\n",
              "    }\n",
              "</style>\n",
              "<table border=\"1\" class=\"dataframe\">\n",
              "  <thead>\n",
              "    <tr style=\"text-align: right;\">\n",
              "      <th></th>\n",
              "      <th>cases_new</th>\n",
              "      <th>cluster_import</th>\n",
              "      <th>cluster_religious</th>\n",
              "      <th>cluster_community</th>\n",
              "      <th>cluster_highRisk</th>\n",
              "      <th>cluster_education</th>\n",
              "      <th>cluster_detentionCentre</th>\n",
              "      <th>cluster_workplace</th>\n",
              "    </tr>\n",
              "  </thead>\n",
              "  <tbody>\n",
              "    <tr>\n",
              "      <th>count</th>\n",
              "      <td>509.000000</td>\n",
              "      <td>218.000000</td>\n",
              "      <td>218.000000</td>\n",
              "      <td>218.000000</td>\n",
              "      <td>218.000000</td>\n",
              "      <td>218.000000</td>\n",
              "      <td>218.000000</td>\n",
              "      <td>218.000000</td>\n",
              "    </tr>\n",
              "    <tr>\n",
              "      <th>mean</th>\n",
              "      <td>2405.884086</td>\n",
              "      <td>0.490826</td>\n",
              "      <td>35.133028</td>\n",
              "      <td>203.339450</td>\n",
              "      <td>25.876147</td>\n",
              "      <td>43.949541</td>\n",
              "      <td>83.513761</td>\n",
              "      <td>748.403670</td>\n",
              "    </tr>\n",
              "    <tr>\n",
              "      <th>std</th>\n",
              "      <td>3667.584697</td>\n",
              "      <td>3.966729</td>\n",
              "      <td>70.204151</td>\n",
              "      <td>170.298801</td>\n",
              "      <td>32.329500</td>\n",
              "      <td>81.083800</td>\n",
              "      <td>84.290983</td>\n",
              "      <td>473.507213</td>\n",
              "    </tr>\n",
              "    <tr>\n",
              "      <th>min</th>\n",
              "      <td>1.000000</td>\n",
              "      <td>0.000000</td>\n",
              "      <td>0.000000</td>\n",
              "      <td>19.000000</td>\n",
              "      <td>0.000000</td>\n",
              "      <td>0.000000</td>\n",
              "      <td>0.000000</td>\n",
              "      <td>57.000000</td>\n",
              "    </tr>\n",
              "    <tr>\n",
              "      <th>25%</th>\n",
              "      <td>54.000000</td>\n",
              "      <td>0.000000</td>\n",
              "      <td>0.250000</td>\n",
              "      <td>83.500000</td>\n",
              "      <td>3.000000</td>\n",
              "      <td>0.000000</td>\n",
              "      <td>22.500000</td>\n",
              "      <td>346.500000</td>\n",
              "    </tr>\n",
              "    <tr>\n",
              "      <th>50%</th>\n",
              "      <td>1116.000000</td>\n",
              "      <td>0.000000</td>\n",
              "      <td>6.500000</td>\n",
              "      <td>143.500000</td>\n",
              "      <td>13.000000</td>\n",
              "      <td>13.000000</td>\n",
              "      <td>62.000000</td>\n",
              "      <td>636.000000</td>\n",
              "    </tr>\n",
              "    <tr>\n",
              "      <th>75%</th>\n",
              "      <td>3211.000000</td>\n",
              "      <td>0.000000</td>\n",
              "      <td>28.000000</td>\n",
              "      <td>267.500000</td>\n",
              "      <td>39.000000</td>\n",
              "      <td>42.500000</td>\n",
              "      <td>110.750000</td>\n",
              "      <td>1120.250000</td>\n",
              "    </tr>\n",
              "    <tr>\n",
              "      <th>max</th>\n",
              "      <td>20889.000000</td>\n",
              "      <td>54.000000</td>\n",
              "      <td>359.000000</td>\n",
              "      <td>825.000000</td>\n",
              "      <td>189.000000</td>\n",
              "      <td>501.000000</td>\n",
              "      <td>439.000000</td>\n",
              "      <td>2338.000000</td>\n",
              "    </tr>\n",
              "  </tbody>\n",
              "</table>\n",
              "</div>"
            ],
            "text/plain": [
              "          cases_new  cluster_import  ...  cluster_detentionCentre  cluster_workplace\n",
              "count    509.000000      218.000000  ...               218.000000         218.000000\n",
              "mean    2405.884086        0.490826  ...                83.513761         748.403670\n",
              "std     3667.584697        3.966729  ...                84.290983         473.507213\n",
              "min        1.000000        0.000000  ...                 0.000000          57.000000\n",
              "25%       54.000000        0.000000  ...                22.500000         346.500000\n",
              "50%     1116.000000        0.000000  ...                62.000000         636.000000\n",
              "75%     3211.000000        0.000000  ...               110.750000        1120.250000\n",
              "max    20889.000000       54.000000  ...               439.000000        2338.000000\n",
              "\n",
              "[8 rows x 8 columns]"
            ]
          },
          "metadata": {
            "tags": []
          },
          "execution_count": 25
        }
      ]
    },
    {
      "cell_type": "code",
      "metadata": {
        "colab": {
          "base_uri": "https://localhost:8080/",
          "height": 295
        },
        "id": "TXI_bir13TEs",
        "outputId": "48366d94-8402-4104-ed10-50fe6c00fd4a"
      },
      "source": [
        "import matplotlib.pyplot as plt \n",
        "import seaborn as sns\n",
        "\n",
        "\n",
        "plt.plot(df['date'],df['cases_new'])\n",
        "plt.title('Covid Cases')\n",
        "plt.xlabel('date')\n",
        "plt.ylabel('New Cases ')\n",
        "plt.show()"
      ],
      "execution_count": 24,
      "outputs": [
        {
          "output_type": "display_data",
          "data": {
            "image/png": "[encoded data removed]",
            "text/plain": [
              "<Figure size 432x288 with 1 Axes>"
            ]
          },
          "metadata": {
            "tags": [],
            "needs_background": "light"
          }
        }
      ]
    }
  ]
}