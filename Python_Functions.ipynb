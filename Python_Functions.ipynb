{
  "nbformat": 4,
  "nbformat_minor": 0,
  "metadata": {
    "colab": {
      "name": "Python: Functions",
      "provenance": [],
      "authorship_tag": "ABX9TyMPumyylpR/0ymm7EEElhNe",
      "include_colab_link": true
    },
    "kernelspec": {
      "name": "python3",
      "display_name": "Python 3"
    },
    "language_info": {
      "name": "python"
    }
  },
  "cells": [
    {
      "cell_type": "markdown",
      "metadata": {
        "id": "view-in-github",
        "colab_type": "text"
      },
      "source": [
        "<a href=\"https://colab.research.google.com/github/rjkevin/python-for-beginners/blob/main/Python_Functions.ipynb\" target=\"_parent\"><img src=\"https://colab.research.google.com/assets/colab-badge.svg\" alt=\"Open In Colab\"/></a>"
      ]
    },
    {
      "cell_type": "markdown",
      "metadata": {
        "id": "1QB849rpKrSu"
      },
      "source": [
        "# Functions\n",
        "**Overview**: \n",
        "*   Function is a block of reusable code\n",
        "*   2 types of functions; built in / simple functions & custom functions\n",
        "* You can choose to specify argument(s), keyword argument(s) or default arguments in a function\n",
        "* Functions can return a value. However, if its not told to 'return'a value it will automatically return None.\n",
        "* a function can have multiple return values\n",
        "\n",
        "# Advantage of functions\n",
        "\n",
        "*  Minimalism - shorter codes - eliminate repetition and save you time (DRY)\n",
        "* Encapsulation - wrapping a useful code without the need to know about its specifics\n",
        "* Managebility - split complex codes into manageable chunks. Easier to debug when the need arises\n",
        "* Reusability - reuse functions for other programs\n",
        "* Readability - wrap codes in logical and meaningful manner\n",
        "\n",
        "\n",
        "\n"
      ]
    },
    {
      "cell_type": "code",
      "metadata": {
        "id": "ojlu2R-SqZ2G",
        "colab": {
          "base_uri": "https://localhost:8080/"
        },
        "outputId": "cc2d594e-cbdf-4d42-ccc9-33cbef0f64e3"
      },
      "source": [
        "print(' Hello World')\n",
        "print(' Hello World')\n",
        "print(' Hello World')\n",
        "print(' Hello World')"
      ],
      "execution_count": null,
      "outputs": [
        {
          "output_type": "stream",
          "text": [
            " Hello World\n",
            " Hello World\n",
            " Hello World\n",
            " Hello World\n"
          ],
          "name": "stdout"
        }
      ]
    },
    {
      "cell_type": "code",
      "metadata": {
        "id": "R61li2p1qfyX",
        "colab": {
          "base_uri": "https://localhost:8080/"
        },
        "outputId": "21a74d4c-76fc-44a0-efb2-41a40c5b3681"
      },
      "source": [
        "def hello_world():\n",
        "  print('Hello World') # Amending the main function definitions will have a blanket effect!No need to manually amend each code.\n",
        "\n",
        "hello_world()\n",
        "hello_world()\n",
        "hello_world()\n",
        "hello_world()\n",
        " "
      ],
      "execution_count": null,
      "outputs": [
        {
          "output_type": "stream",
          "text": [
            "Hello World\n",
            "Hello World\n",
            "Hello World\n",
            "Hello World\n"
          ],
          "name": "stdout"
        }
      ]
    },
    {
      "cell_type": "markdown",
      "metadata": {
        "id": "owjHnEcdrPg_"
      },
      "source": [
        "# Creating a function:"
      ]
    },
    {
      "cell_type": "code",
      "metadata": {
        "id": "WsmZg4eHqKWf"
      },
      "source": [
        "# use def to define a function\n",
        "# defining a function memorizes the function, it doesn't invoke / call it\n",
        "\n",
        "def hello_world():\n",
        "  print('Hello World')"
      ],
      "execution_count": null,
      "outputs": []
    },
    {
      "cell_type": "code",
      "metadata": {
        "colab": {
          "base_uri": "https://localhost:8080/"
        },
        "id": "HKS8en68KJSM",
        "outputId": "40b10e2e-f0e8-4e17-8111-9bdabc7ed99e"
      },
      "source": [
        "hello_world() # To call a function, you need to type name of the function with open and close parentheses"
      ],
      "execution_count": null,
      "outputs": [
        {
          "output_type": "stream",
          "text": [
            "Hello World\n"
          ],
          "name": "stdout"
        }
      ]
    },
    {
      "cell_type": "markdown",
      "metadata": {
        "id": "2CX8HxRUsNs_"
      },
      "source": [
        "# Calling a function:"
      ]
    },
    {
      "cell_type": "code",
      "metadata": {
        "colab": {
          "base_uri": "https://localhost:8080/"
        },
        "id": "h273WoiMrou_",
        "outputId": "4289e6c3-d8cf-4f93-c3c3-c4acece102eb"
      },
      "source": [
        "def my_function():\n",
        "  print('value in function')\n",
        "\n",
        "my_function() "
      ],
      "execution_count": null,
      "outputs": [
        {
          "output_type": "stream",
          "text": [
            "value in function\n"
          ],
          "name": "stdout"
        }
      ]
    },
    {
      "cell_type": "markdown",
      "metadata": {
        "id": "y3WEmI3OB3g1"
      },
      "source": [
        "# Default parameters:"
      ]
    },
    {
      "cell_type": "code",
      "metadata": {
        "colab": {
          "base_uri": "https://localhost:8080/"
        },
        "id": "Yy_6X7KtB3BT",
        "outputId": "5a7b780b-37c6-4a0a-c067-7fff4208caf9"
      },
      "source": [
        "def my_country(country='Malaysia'):\n",
        "  print('I am from',country)\n",
        "\n",
        "my_country()\n",
        "my_country('Norway')\n",
        "my_country('Indonesia')\n"
      ],
      "execution_count": null,
      "outputs": [
        {
          "output_type": "stream",
          "text": [
            "I am from Malaysia\n",
            "I am from Norway\n",
            "I am from Indonesia\n"
          ],
          "name": "stdout"
        }
      ]
    },
    {
      "cell_type": "markdown",
      "metadata": {
        "id": "WfnOGbvpt-Za"
      },
      "source": [
        "# Arguments / arg:"
      ]
    },
    {
      "cell_type": "code",
      "metadata": {
        "colab": {
          "base_uri": "https://localhost:8080/"
        },
        "id": "mQ9f2VD2sSVc",
        "outputId": "de12f909-c2ef-40d7-ddd2-f60da1467533"
      },
      "source": [
        "def name(fname):\n",
        "  print(fname +' Perumal')\n",
        "\n",
        "name('Eswaran')\n",
        "name('Jenita')\n",
        "name('Mages') \n"
      ],
      "execution_count": null,
      "outputs": [
        {
          "output_type": "stream",
          "text": [
            "Eswaran Perumal\n",
            "Jenita Perumal\n",
            "Mages Perumal\n"
          ],
          "name": "stdout"
        }
      ]
    },
    {
      "cell_type": "markdown",
      "metadata": {
        "id": "M1xvb3GMFgin"
      },
      "source": [
        " Passing a list as an argument through a function"
      ]
    },
    {
      "cell_type": "code",
      "metadata": {
        "colab": {
          "base_uri": "https://localhost:8080/"
        },
        "id": "qQocVIVBvgrE",
        "outputId": "47c35b10-a9dd-478d-c9f5-502952edcd05"
      },
      "source": [
        "def savings_less_inflation (saving_amount,inflation_rate):\n",
        "  value = saving_amount*((100-inflation_rate)/100)\n",
        "  print(' saving after inflation: RM %.2f' %(value))\n",
        "\n",
        "savings_less_inflation(1000,2)\n"
      ],
      "execution_count": null,
      "outputs": [
        {
          "output_type": "stream",
          "text": [
            " saving after inflation: RM 980.00\n"
          ],
          "name": "stdout"
        }
      ]
    },
    {
      "cell_type": "code",
      "metadata": {
        "colab": {
          "base_uri": "https://localhost:8080/"
        },
        "id": "n-sCBa5qvKhK",
        "outputId": "43a17bc8-ef20-44f9-8c74-b610b66990f8"
      },
      "source": [
        "savings = [2000,300,40000,500,5000]\n",
        "for x in savings: \n",
        "  savings_less_inflation(x,2) "
      ],
      "execution_count": null,
      "outputs": [
        {
          "output_type": "stream",
          "text": [
            " saving after inflation: RM 1960.00\n",
            " saving after inflation: RM 294.00\n",
            " saving after inflation: RM 39200.00\n",
            " saving after inflation: RM 490.00\n",
            " saving after inflation: RM 4900.00\n"
          ],
          "name": "stdout"
        }
      ]
    },
    {
      "cell_type": "markdown",
      "metadata": {
        "id": "xTcwvsI9ScH8"
      },
      "source": [
        "# Keywords Arguments / kwarg:"
      ]
    },
    {
      "cell_type": "code",
      "metadata": {
        "colab": {
          "base_uri": "https://localhost:8080/"
        },
        "id": "QNYr84PERyAy",
        "outputId": "38a06a58-0f77-4282-e872-0777ba0bcf49"
      },
      "source": [
        "# using key and value syntax \n",
        "\n",
        "def country(c1,c2,c3):\n",
        "  print('I love',c3)\n",
        "\n",
        "country(c1='malaysia',c2='spain',c3='indonesia')"
      ],
      "execution_count": null,
      "outputs": [
        {
          "output_type": "stream",
          "text": [
            "I love indonesia\n"
          ],
          "name": "stdout"
        }
      ]
    },
    {
      "cell_type": "code",
      "metadata": {
        "colab": {
          "base_uri": "https://localhost:8080/"
        },
        "id": "kxLpZ8N0uKHp",
        "outputId": "8401cb61-0f79-46eb-9f65-eb1fc9c3ebba"
      },
      "source": [
        "def name (fname, lname):\n",
        "  print(fname + ' ' +lname)\n",
        "\n",
        "name('RJ','Kevin')\n",
        "name('Shiromi','Jayatilake')\n",
        "name('Amree','Ariff')\n",
        "name('Ahmad','Nazirul')\n"
      ],
      "execution_count": null,
      "outputs": [
        {
          "output_type": "stream",
          "text": [
            "RJ Kevin\n",
            "Shiromi Jayatilake\n",
            "Amree Ariff\n",
            "Ahmad Nazirul\n"
          ],
          "name": "stdout"
        }
      ]
    },
    {
      "cell_type": "code",
      "metadata": {
        "colab": {
          "base_uri": "https://localhost:8080/"
        },
        "id": "PkCQ_Nq7RY-p",
        "outputId": "dc026980-605f-4d65-e7ab-4762d3b0c38b"
      },
      "source": [
        "name(lname='Gordon',fname=\"James\") # the order doesn't matter"
      ],
      "execution_count": null,
      "outputs": [
        {
          "output_type": "stream",
          "text": [
            "James Gordon\n"
          ],
          "name": "stdout"
        }
      ]
    },
    {
      "cell_type": "markdown",
      "metadata": {
        "id": "n8QC5rA1Q3IK"
      },
      "source": [
        "# Arbitary Arguments (*arg) / Arbitary Keyword Arguments (**kwarg):"
      ]
    },
    {
      "cell_type": "markdown",
      "metadata": {
        "id": "Ks9BRrjEfVAI"
      },
      "source": [
        "Arbitary arguments"
      ]
    },
    {
      "cell_type": "code",
      "metadata": {
        "colab": {
          "base_uri": "https://localhost:8080/"
        },
        "id": "MU1iNkbOQYpw",
        "outputId": "74412b80-14f6-44df-c266-bce2343f6bf8"
      },
      "source": [
        "# what if the no. of arguments is not fixed?\n",
        "\n",
        "def child(*kids): # add * when there is multiple arguments, the func access the arguments as tuples\n",
        "  print('my youngest kid is',kids[2])\n",
        "\n",
        "child('lucifer','decker','Amenadial')"
      ],
      "execution_count": null,
      "outputs": [
        {
          "output_type": "stream",
          "text": [
            "my youngest kid is Amenadial\n"
          ],
          "name": "stdout"
        }
      ]
    },
    {
      "cell_type": "code",
      "metadata": {
        "colab": {
          "base_uri": "https://localhost:8080/"
        },
        "id": "qgq7IY8DP4jT",
        "outputId": "952a7ead-79fe-493e-f97d-30a18b1516b6"
      },
      "source": [
        "def random_function(*numbers): #arbitary arguments stored as tuple\n",
        "  print(numbers)\n",
        "\n",
        "random_function(2,4,5,6,7,7)\n",
        "random_function(1)\n"
      ],
      "execution_count": 6,
      "outputs": [
        {
          "output_type": "stream",
          "text": [
            "(2, 4, 5, 6, 7, 7)\n",
            "(1,)\n"
          ],
          "name": "stdout"
        }
      ]
    },
    {
      "cell_type": "markdown",
      "metadata": {
        "id": "RQXoXJ4beAn2"
      },
      "source": [
        "Arbitary Keyword Arguments"
      ]
    },
    {
      "cell_type": "code",
      "metadata": {
        "colab": {
          "base_uri": "https://localhost:8080/"
        },
        "id": "P9Oz_KZpcApo",
        "outputId": "e5796a72-579d-489a-f300-6436a02fe882"
      },
      "source": [
        "def custom_func(**names): # arbitary keyword arguments are stores as dictionary \n",
        "  print(names)\n",
        "\n",
        "custom_func(names='rj', age=29,email='onlyrjkevin@gmail.com')"
      ],
      "execution_count": 7,
      "outputs": [
        {
          "output_type": "stream",
          "text": [
            "{'names': 'rj', 'age': 29, 'email': 'onlyrjkevin@gmail.com'}\n"
          ],
          "name": "stdout"
        }
      ]
    },
    {
      "cell_type": "markdown",
      "metadata": {
        "id": "MuYywptJuxvh"
      },
      "source": [
        "# print ( ) vs return value: "
      ]
    },
    {
      "cell_type": "code",
      "metadata": {
        "colab": {
          "base_uri": "https://localhost:8080/"
        },
        "id": "skXKPEPluyDN",
        "outputId": "60df84c4-e645-4ab4-eb6e-d1c4142e1475"
      },
      "source": [
        "def print3():\n",
        "  print(3) # printing happens within the function\n",
        "          # function returns nothing\n",
        "print3()"
      ],
      "execution_count": null,
      "outputs": [
        {
          "output_type": "stream",
          "text": [
            "3\n"
          ],
          "name": "stdout"
        }
      ]
    },
    {
      "cell_type": "code",
      "metadata": {
        "colab": {
          "base_uri": "https://localhost:8080/"
        },
        "id": "7m4i6vf-u9Xz",
        "outputId": "bbb60059-d759-42d6-b430-4d20e5557741"
      },
      "source": [
        "def return3():\n",
        "  return 3  # functions returns 3 but is printed in the main program  \n",
        "\n",
        "return3()"
      ],
      "execution_count": null,
      "outputs": [
        {
          "output_type": "execute_result",
          "data": {
            "text/plain": [
              "3"
            ]
          },
          "metadata": {
            "tags": []
          },
          "execution_count": 19
        }
      ]
    },
    {
      "cell_type": "code",
      "metadata": {
        "colab": {
          "base_uri": "https://localhost:8080/"
        },
        "id": "fLAg7kRMUT8r",
        "outputId": "54869ad3-bb23-43f7-cb79-b65533c3a1ca"
      },
      "source": [
        "# use return to let function to return a value\n",
        "\n",
        "def sample(x):\n",
        "  return x * 5\n",
        "\n",
        "print(sample(3))\n",
        "print(sample(4))\n",
        "print(sample(5))"
      ],
      "execution_count": null,
      "outputs": [
        {
          "output_type": "stream",
          "text": [
            "15\n",
            "20\n",
            "25\n"
          ],
          "name": "stdout"
        }
      ]
    },
    {
      "cell_type": "code",
      "metadata": {
        "id": "3gKEvBFmVT5g",
        "colab": {
          "base_uri": "https://localhost:8080/"
        },
        "outputId": "8283d90b-2c75-430e-9852-cf8123cb5adb"
      },
      "source": [
        "# function doesn't return a value ==> void function \n",
        "def sample2(x):\n",
        "  x *5\n",
        "\n",
        "print(sample2(3)) \n",
        "print(sample2(4))\n",
        "print(sample2(5))"
      ],
      "execution_count": 10,
      "outputs": [
        {
          "output_type": "stream",
          "text": [
            "None\n",
            "None\n",
            "None\n"
          ],
          "name": "stdout"
        }
      ]
    },
    {
      "cell_type": "code",
      "metadata": {
        "colab": {
          "base_uri": "https://localhost:8080/"
        },
        "id": "x-dZHIRKx2na",
        "outputId": "3557f4aa-7e32-4cd4-b3c8-68f9a1679fb3"
      },
      "source": [
        "def sample2(x):\n",
        "  return x + 2\n",
        "\n",
        "y = 2 + sample2(2)\n",
        "print(y)\n"
      ],
      "execution_count": null,
      "outputs": [
        {
          "output_type": "stream",
          "text": [
            "6\n"
          ],
          "name": "stdout"
        }
      ]
    },
    {
      "cell_type": "markdown",
      "metadata": {
        "id": "PYHUE7RRXHwh"
      },
      "source": [
        "# Passing the function when there's no parameters added:"
      ]
    },
    {
      "cell_type": "code",
      "metadata": {
        "id": "zCpqPc16XB7i"
      },
      "source": [
        "def conversion(): # because an error will be thrown if no parameters is defined. Can bypass this by adding a pass statement. Nothing happens \n",
        "  pass\n"
      ],
      "execution_count": null,
      "outputs": []
    },
    {
      "cell_type": "markdown",
      "metadata": {
        "id": "tOsLpB6t1dev"
      },
      "source": [
        "# Modules\n",
        "Essentially a collections of functions\n",
        "\n",
        "\n",
        "```\n",
        "from < library > import < module > \n",
        "\n",
        "or\n",
        "\n",
        "import < module > \n",
        "< module_name > . < functions > \n",
        "\n",
        "e.g \n",
        "from lxml import html \n",
        "html.fromstring( )\n",
        "\n",
        "```\n",
        "\n",
        "\n"
      ]
    },
    {
      "cell_type": "markdown",
      "metadata": {
        "id": "TisRTFWQ2RpV"
      },
      "source": [
        "# Anonymous Functions:\n",
        "- It creates a function with no names. A one liner code.\n",
        "- not commonly used but has functions to improve readability of codes\n",
        "- use keyword called lambda \n",
        "\n",
        "```\n",
        "< lambda > < parameter> : < statement >\n",
        "```\n",
        "\n",
        "\n",
        "\n"
      ]
    },
    {
      "cell_type": "code",
      "metadata": {
        "colab": {
          "base_uri": "https://localhost:8080/"
        },
        "id": "dsBmRV02MI8b",
        "outputId": "22a21c84-cc53-44a6-fe09-9794a398c7c3"
      },
      "source": [
        "\n",
        "f = lambda x:x**2\n",
        "\n",
        "f(2)\n"
      ],
      "execution_count": null,
      "outputs": [
        {
          "output_type": "execute_result",
          "data": {
            "text/plain": [
              "4"
            ]
          },
          "metadata": {
            "tags": []
          },
          "execution_count": 25
        }
      ]
    },
    {
      "cell_type": "code",
      "metadata": {
        "colab": {
          "base_uri": "https://localhost:8080/"
        },
        "id": "iWCf2OJpNGOD",
        "outputId": "2f77d9d8-dd87-4ed9-e461-568c12903121"
      },
      "source": [
        "def function(x):\n",
        "  return x**2\n",
        "\n",
        "function(2)"
      ],
      "execution_count": null,
      "outputs": [
        {
          "output_type": "execute_result",
          "data": {
            "text/plain": [
              "4"
            ]
          },
          "metadata": {
            "tags": []
          },
          "execution_count": 26
        }
      ]
    },
    {
      "cell_type": "markdown",
      "metadata": {
        "id": "8OZGjhM-4TzA"
      },
      "source": [
        "# Simple use cases:"
      ]
    },
    {
      "cell_type": "markdown",
      "metadata": {
        "id": "g0jOTami_Frp"
      },
      "source": [
        "Simple purchase conversion calculator and recommendation"
      ]
    },
    {
      "cell_type": "code",
      "metadata": {
        "id": "cg3-5Qhx4Wy3"
      },
      "source": [
        "\n",
        "\n",
        "def purchase_conversion(no_orders,total_traffic):\n",
        "  '''Calculates purchase conversion based on no of orders and traffic, returns int '''\n",
        "  \n",
        "  conversion = int((no_orders/total_traffic)*100)\n",
        "  print('Purchase conversion :',conversion,'%')\n",
        "  print('For every 100 visitors,', conversion,'purchases are made.')\n",
        "  if conversion > 3:\n",
        "    print('Recommendation: Traffic to cart could be improved. Run targeted facebook and instagram ads to capture more sales')\n",
        "  else:\n",
        "    print('Recommendation: Relook into offerings,promotions and delivery pricing')\n",
        "\n",
        "\n",
        "  \n",
        "no_orders= int(input('Enter total orders recieved: '))\n",
        "total_traffic= int(input('Enter total traffic within time period: '))\n",
        "\n",
        "purchase_conversion(no_orders,total_traffic)\n",
        "\n"
      ],
      "execution_count": null,
      "outputs": []
    },
    {
      "cell_type": "markdown",
      "metadata": {
        "id": "G4VOusel3Dqg"
      },
      "source": [
        "# Tips:\n",
        "\n",
        "*   Use a doc string to '''.....''' to explain what your function does particularly the following: \n",
        "* What does the function do?\n",
        "* What are the parameters for the function? \n",
        "* What does the function returns? \n",
        "\n"
      ]
    },
    {
      "cell_type": "markdown",
      "metadata": {
        "id": "Yaf0JY2Yg9xg"
      },
      "source": [
        "# References:\n",
        "\n",
        "*   https://python101.pythonlibrary.org/chapter10_functions.html\n",
        "*   https://www.py4e.com/html3/04-functions\n",
        "* Corey Schafer - https://www.youtube.com/watch?v=9Os0o3wzS_I\n",
        "\n"
      ]
    }
  ]
}